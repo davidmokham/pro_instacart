{
 "cells": [
  {
   "cell_type": "code",
   "execution_count": 1,
   "metadata": {
    "collapsed": true
   },
   "outputs": [],
   "source": [
    "import pandas as pd\n",
    "import matplotlib.pyplot as plt\n",
    "%matplotlib inline"
   ]
  },
  {
   "cell_type": "code",
   "execution_count": 2,
   "metadata": {},
   "outputs": [
    {
     "data": {
      "text/plain": [
       "3421083"
      ]
     },
     "execution_count": 2,
     "metadata": {},
     "output_type": "execute_result"
    }
   ],
   "source": [
    "df1 = pd.read_csv('orders.csv')\n",
    "df1['eval_set'].count()\n",
    "\n",
    "# prior, train 차이가 뭐지."
   ]
  },
  {
   "cell_type": "code",
   "execution_count": 3,
   "metadata": {},
   "outputs": [
    {
     "data": {
      "text/html": [
       "<div>\n",
       "<style>\n",
       "    .dataframe thead tr:only-child th {\n",
       "        text-align: right;\n",
       "    }\n",
       "\n",
       "    .dataframe thead th {\n",
       "        text-align: left;\n",
       "    }\n",
       "\n",
       "    .dataframe tbody tr th {\n",
       "        vertical-align: top;\n",
       "    }\n",
       "</style>\n",
       "<table border=\"1\" class=\"dataframe\">\n",
       "  <thead>\n",
       "    <tr style=\"text-align: right;\">\n",
       "      <th></th>\n",
       "      <th>order_id</th>\n",
       "      <th>user_id</th>\n",
       "      <th>eval_set</th>\n",
       "      <th>order_number</th>\n",
       "      <th>order_dow</th>\n",
       "      <th>order_hour_of_day</th>\n",
       "      <th>days_since_prior_order</th>\n",
       "    </tr>\n",
       "  </thead>\n",
       "  <tbody>\n",
       "    <tr>\n",
       "      <th>3420838</th>\n",
       "      <td>2585586</td>\n",
       "      <td>206199</td>\n",
       "      <td>train</td>\n",
       "      <td>20</td>\n",
       "      <td>2</td>\n",
       "      <td>16</td>\n",
       "      <td>30.0</td>\n",
       "    </tr>\n",
       "    <tr>\n",
       "      <th>3420862</th>\n",
       "      <td>943915</td>\n",
       "      <td>206200</td>\n",
       "      <td>train</td>\n",
       "      <td>24</td>\n",
       "      <td>6</td>\n",
       "      <td>19</td>\n",
       "      <td>6.0</td>\n",
       "    </tr>\n",
       "    <tr>\n",
       "      <th>3420924</th>\n",
       "      <td>2371631</td>\n",
       "      <td>206203</td>\n",
       "      <td>train</td>\n",
       "      <td>6</td>\n",
       "      <td>4</td>\n",
       "      <td>19</td>\n",
       "      <td>30.0</td>\n",
       "    </tr>\n",
       "    <tr>\n",
       "      <th>3420933</th>\n",
       "      <td>1716008</td>\n",
       "      <td>206205</td>\n",
       "      <td>train</td>\n",
       "      <td>4</td>\n",
       "      <td>1</td>\n",
       "      <td>16</td>\n",
       "      <td>10.0</td>\n",
       "    </tr>\n",
       "    <tr>\n",
       "      <th>3421082</th>\n",
       "      <td>272231</td>\n",
       "      <td>206209</td>\n",
       "      <td>train</td>\n",
       "      <td>14</td>\n",
       "      <td>6</td>\n",
       "      <td>14</td>\n",
       "      <td>30.0</td>\n",
       "    </tr>\n",
       "  </tbody>\n",
       "</table>\n",
       "</div>"
      ],
      "text/plain": [
       "         order_id  user_id eval_set  order_number  order_dow  \\\n",
       "3420838   2585586   206199    train            20          2   \n",
       "3420862    943915   206200    train            24          6   \n",
       "3420924   2371631   206203    train             6          4   \n",
       "3420933   1716008   206205    train             4          1   \n",
       "3421082    272231   206209    train            14          6   \n",
       "\n",
       "         order_hour_of_day  days_since_prior_order  \n",
       "3420838                 16                    30.0  \n",
       "3420862                 19                     6.0  \n",
       "3420924                 19                    30.0  \n",
       "3420933                 16                    10.0  \n",
       "3421082                 14                    30.0  "
      ]
     },
     "execution_count": 3,
     "metadata": {},
     "output_type": "execute_result"
    }
   ],
   "source": [
    "train_orders = df1[df1['eval_set'] == 'train']\n",
    "train_orders.tail()\n",
    "# eval_set에서 train만 담당하는 애들"
   ]
  },
  {
   "cell_type": "code",
   "execution_count": 13,
   "metadata": {},
   "outputs": [
    {
     "data": {
      "text/plain": [
       "Index([u'order_id', u'user_id', u'eval_set', u'order_number', u'order_dow',\n",
       "       u'order_hour_of_day', u'days_since_prior_order'],\n",
       "      dtype='object')"
      ]
     },
     "execution_count": 13,
     "metadata": {},
     "output_type": "execute_result"
    }
   ],
   "source": [
    "train_orders.columns"
   ]
  },
  {
   "cell_type": "code",
   "execution_count": 20,
   "metadata": {},
   "outputs": [],
   "source": [
    "df1 = train_orders['days_since_prior_order'].value_counts().index.tolist()\n",
    "# 밸류카운트에서 인덱스만 뽑는 함수!!\n",
    "## dataframe[column].value_counts().index.tolist()"
   ]
  },
  {
   "cell_type": "code",
   "execution_count": 21,
   "metadata": {},
   "outputs": [],
   "source": [
    "df2 = list(train_orders['days_since_prior_order'].value_counts())"
   ]
  },
  {
   "cell_type": "code",
   "execution_count": 22,
   "metadata": {},
   "outputs": [
    {
     "data": {
      "text/plain": [
       "([<matplotlib.patches.Wedge at 0x87072b0>,\n",
       "  <matplotlib.patches.Wedge at 0x8707810>,\n",
       "  <matplotlib.patches.Wedge at 0x8707d10>,\n",
       "  <matplotlib.patches.Wedge at 0x8703230>,\n",
       "  <matplotlib.patches.Wedge at 0x8703730>,\n",
       "  <matplotlib.patches.Wedge at 0x8703c30>,\n",
       "  <matplotlib.patches.Wedge at 0x875c150>,\n",
       "  <matplotlib.patches.Wedge at 0x875c650>,\n",
       "  <matplotlib.patches.Wedge at 0x875cb50>,\n",
       "  <matplotlib.patches.Wedge at 0x872a3b0>,\n",
       "  <matplotlib.patches.Wedge at 0x872a830>,\n",
       "  <matplotlib.patches.Wedge at 0x876f090>,\n",
       "  <matplotlib.patches.Wedge at 0x876f590>,\n",
       "  <matplotlib.patches.Wedge at 0x876fa90>,\n",
       "  <matplotlib.patches.Wedge at 0x876ff90>,\n",
       "  <matplotlib.patches.Wedge at 0x877c4b0>,\n",
       "  <matplotlib.patches.Wedge at 0x877c9b0>,\n",
       "  <matplotlib.patches.Wedge at 0x877ceb0>,\n",
       "  <matplotlib.patches.Wedge at 0x87893d0>,\n",
       "  <matplotlib.patches.Wedge at 0x87898d0>,\n",
       "  <matplotlib.patches.Wedge at 0x870f2f0>,\n",
       "  <matplotlib.patches.Wedge at 0x87962f0>,\n",
       "  <matplotlib.patches.Wedge at 0x87967f0>,\n",
       "  <matplotlib.patches.Wedge at 0x8796cf0>,\n",
       "  <matplotlib.patches.Wedge at 0x883c210>,\n",
       "  <matplotlib.patches.Wedge at 0x883c710>,\n",
       "  <matplotlib.patches.Wedge at 0x883cc10>,\n",
       "  <matplotlib.patches.Wedge at 0x8848130>,\n",
       "  <matplotlib.patches.Wedge at 0x8848630>,\n",
       "  <matplotlib.patches.Wedge at 0x8848b30>,\n",
       "  <matplotlib.patches.Wedge at 0x8789dd0>],\n",
       " [<matplotlib.text.Text at 0x87075d0>,\n",
       "  <matplotlib.text.Text at 0x8707b30>,\n",
       "  <matplotlib.text.Text at 0x8707fd0>,\n",
       "  <matplotlib.text.Text at 0x8703550>,\n",
       "  <matplotlib.text.Text at 0x8703a50>,\n",
       "  <matplotlib.text.Text at 0x8703f50>,\n",
       "  <matplotlib.text.Text at 0x875c470>,\n",
       "  <matplotlib.text.Text at 0x875c970>,\n",
       "  <matplotlib.text.Text at 0x8740390>,\n",
       "  <matplotlib.text.Text at 0x872abf0>,\n",
       "  <matplotlib.text.Text at 0x875ce90>,\n",
       "  <matplotlib.text.Text at 0x876f3b0>,\n",
       "  <matplotlib.text.Text at 0x876f8b0>,\n",
       "  <matplotlib.text.Text at 0x876fdb0>,\n",
       "  <matplotlib.text.Text at 0x877c2d0>,\n",
       "  <matplotlib.text.Text at 0x877c7d0>,\n",
       "  <matplotlib.text.Text at 0x877ccd0>,\n",
       "  <matplotlib.text.Text at 0x87891f0>,\n",
       "  <matplotlib.text.Text at 0x87896f0>,\n",
       "  <matplotlib.text.Text at 0x8789bf0>,\n",
       "  <matplotlib.text.Text at 0x8796110>,\n",
       "  <matplotlib.text.Text at 0x8796610>,\n",
       "  <matplotlib.text.Text at 0x8796b10>,\n",
       "  <matplotlib.text.Text at 0x8796fb0>,\n",
       "  <matplotlib.text.Text at 0x883c530>,\n",
       "  <matplotlib.text.Text at 0x883ca30>,\n",
       "  <matplotlib.text.Text at 0x883cf30>,\n",
       "  <matplotlib.text.Text at 0x8848450>,\n",
       "  <matplotlib.text.Text at 0x8848950>,\n",
       "  <matplotlib.text.Text at 0x8848e50>,\n",
       "  <matplotlib.text.Text at 0x8855370>])"
      ]
     },
     "execution_count": 22,
     "metadata": {},
     "output_type": "execute_result"
    },
    {
     "data": {
      "image/png": "[encoded data removed]",
      "text/plain": [
       "<matplotlib.figure.Figure at 0x8567fb0>"
      ]
     },
     "metadata": {},
     "output_type": "display_data"
    }
   ],
   "source": [
    "plt.pie(df2, labels = df1)"
   ]
  },
  {
   "cell_type": "code",
   "execution_count": 4,
   "metadata": {},
   "outputs": [
    {
     "data": {
      "text/plain": [
       "<matplotlib.text.Text at 0x82480b0>"
      ]
     },
     "execution_count": 4,
     "metadata": {},
     "output_type": "execute_result"
    },
    {
     "data": {
      "image/png": "[encoded data removed]",
      "text/plain": [
       "<matplotlib.figure.Figure at 0x81290f0>"
      ]
     },
     "metadata": {},
     "output_type": "display_data"
    }
   ],
   "source": [
    "val_list = {}\n",
    "for i in range(0,25):\n",
    "    val = train_orders[train_orders['order_hour_of_day'] == i]['user_id'].count()\n",
    "    val_list[i] = val\n",
    "    #print 'the time {} has {} counts'.format(i,val)\n",
    "\n",
    "plt.scatter(val_list.keys(), val_list.values())\n",
    "plt.xlabel('time')\n",
    "plt.ylabel('count')\n",
    "plt.title('time, count')\n",
    "# 10-16시에 시키는 사람이 많다. 다수에 사람들이 집중되어있음."
   ]
  },
  {
   "cell_type": "code",
   "execution_count": 8,
   "metadata": {},
   "outputs": [
    {
     "data": {
      "text/plain": [
       "([<matplotlib.patches.Wedge at 0xe5bf9f0>,\n",
       "  <matplotlib.patches.Wedge at 0xe5bff50>,\n",
       "  <matplotlib.patches.Wedge at 0xe2d9470>],\n",
       " [<matplotlib.text.Text at 0xe5bfd30>,\n",
       "  <matplotlib.text.Text at 0xe2d9290>,\n",
       "  <matplotlib.text.Text at 0xe2d9790>])"
      ]
     },
     "execution_count": 8,
     "metadata": {},
     "output_type": "execute_result"
    },
    {
     "data": {
      "image/png": "[encoded data removed]",
      "text/plain": [
       "<matplotlib.figure.Figure at 0xdec2770>"
      ]
     },
     "metadata": {},
     "output_type": "display_data"
    }
   ],
   "source": [
    "data =[20,30,50]\n",
    "plt.pie(data)"
   ]
  },
  {
   "cell_type": "code",
   "execution_count": 29,
   "metadata": {},
   "outputs": [
    {
     "data": {
      "text/plain": [
       "10495"
      ]
     },
     "execution_count": 29,
     "metadata": {},
     "output_type": "execute_result"
    }
   ],
   "source": [
    "train_orders[train_orders['order_hour_of_day'] == 16]['user_id'].count()"
   ]
  },
  {
   "cell_type": "code",
   "execution_count": 26,
   "metadata": {},
   "outputs": [
    {
     "data": {
      "text/plain": [
       "10          (5, 12]\n",
       "25          (5, 12]\n",
       "49          (5, 12]\n",
       "74          (5, 12]\n",
       "78         (12, 17]\n",
       "82          (5, 12]\n",
       "88         (17, 21]\n",
       "115        (17, 21]\n",
       "129        (17, 21]\n",
       "200         (5, 12]\n",
       "207         (5, 12]\n",
       "256         (5, 12]\n",
       "277         (5, 12]\n",
       "296        (12, 17]\n",
       "395        (12, 17]\n",
       "439         (5, 12]\n",
       "448        (12, 17]\n",
       "485        (12, 17]\n",
       "557        (12, 17]\n",
       "570         (5, 12]\n",
       "594        (17, 21]\n",
       "611         (5, 12]\n",
       "623         (5, 12]\n",
       "627         (5, 12]\n",
       "652        (17, 21]\n",
       "658        (21, 25]\n",
       "669        (17, 21]\n",
       "678         (5, 12]\n",
       "746         (5, 12]\n",
       "778        (12, 17]\n",
       "             ...   \n",
       "3420282     (5, 12]\n",
       "3420328     (5, 12]\n",
       "3420340    (12, 17]\n",
       "3420368         NaN\n",
       "3420393    (12, 17]\n",
       "3420415    (12, 17]\n",
       "3420422     (5, 12]\n",
       "3420429    (21, 25]\n",
       "3420436     (5, 12]\n",
       "3420493    (21, 25]\n",
       "3420500    (12, 17]\n",
       "3420515    (12, 17]\n",
       "3420523    (12, 17]\n",
       "3420543     (5, 12]\n",
       "3420581    (12, 17]\n",
       "3420612    (12, 17]\n",
       "3420623    (12, 17]\n",
       "3420627    (12, 17]\n",
       "3420670    (17, 21]\n",
       "3420686    (12, 17]\n",
       "3420692     (5, 12]\n",
       "3420749     (5, 12]\n",
       "3420781    (12, 17]\n",
       "3420786    (12, 17]\n",
       "3420818     (5, 12]\n",
       "3420838    (12, 17]\n",
       "3420862    (17, 21]\n",
       "3420924    (17, 21]\n",
       "3420933    (12, 17]\n",
       "3421082    (12, 17]\n",
       "Name: order_hour_of_day, Length: 131209, dtype: category\n",
       "Categories (5, interval[int64]): [(2, 5] < (5, 12] < (12, 17] < (17, 21] < (21, 25]]"
      ]
     },
     "execution_count": 26,
     "metadata": {},
     "output_type": "execute_result"
    }
   ],
   "source": [
    "bins = [2,5,12,17,21,25]\n",
    "df2 = pd.cut(train_orders['order_hour_of_day'], bins)\n",
    "# bins기준으로 나눈다. 기준은 2-5, 5-12, 12-17, 17-21, 21-25 이다"
   ]
  },
  {
   "cell_type": "code",
   "execution_count": 22,
   "metadata": {},
   "outputs": [
    {
     "data": {
      "image/png": "[encoded data removed]",
      "text/plain": [
       "<matplotlib.figure.Figure at 0xd7be1f0>"
      ]
     },
     "metadata": {},
     "output_type": "display_data"
    }
   ],
   "source": [
    "df1 = train_orders.set_index('days_since_prior_order')\n",
    "# prior_order에 따른 user_id,\n",
    "# order_dow와 시간 비분석, 요일별 시킨 시간\n",
    "plt.scatter(train_orders['order_dow'], train_orders['order_hour_of_day'])\n",
    "plt.ylim(0,25)\n",
    "plt.show()"
   ]
  },
  {
   "cell_type": "code",
   "execution_count": 23,
   "metadata": {},
   "outputs": [
    {
     "data": {
      "text/plain": [
       "14    11103\n",
       "15    11075\n",
       "13    10711\n",
       "12    10622\n",
       "11    10610\n",
       "10    10585\n",
       "16    10495\n",
       "17     9353\n",
       "9      9033\n",
       "18     7558\n",
       "8      6343\n",
       "19     5721\n",
       "20     3978\n",
       "7      3376\n",
       "21     3050\n",
       "22     2442\n",
       "23     1526\n",
       "6      1121\n",
       "0       852\n",
       "1       507\n",
       "5       402\n",
       "2       305\n",
       "3       223\n",
       "4       218\n",
       "Name: order_hour_of_day, dtype: int64"
      ]
     },
     "execution_count": 23,
     "metadata": {},
     "output_type": "execute_result"
    }
   ],
   "source": [
    "train_orders['order_hour_of_day'].value_counts()"
   ]
  },
  {
   "cell_type": "markdown",
   "metadata": {},
   "source": [
    "1. 유저 아이디 소트, 유저별 빈도수? 확인\n",
    "    - order_number, day_since_prior, order_hour_of_day 활용\n",
    "2. order dow 빈도 확인, 날짜 파악?\n",
    "3. 유저 아이디, 오더 시간 학인을 통한 유저 연령대 파악\n"
   ]
  },
  {
   "cell_type": "markdown",
   "metadata": {},
   "source": [
    "order_id, user_id는 각각의 고유값으로 존재함.\n",
    "order_dow(날짜) 는 0과 1에 몰려 있는 모습, 나머지는 평균값\n",
    "주문시간은 평균 13시이며 15시에 몰려 있다.\n",
    "가장 최근 주문은 7일, 30일이 많다."
   ]
  },
  {
   "cell_type": "code",
   "execution_count": 10,
   "metadata": {},
   "outputs": [
    {
     "data": {
      "text/plain": [
       "<matplotlib.collections.PathCollection at 0xd38b9b0>"
      ]
     },
     "execution_count": 10,
     "metadata": {},
     "output_type": "execute_result"
    },
    {
     "data": {
      "image/png": "[encoded data removed]",
      "text/plain": [
       "<matplotlib.figure.Figure at 0xd234510>"
      ]
     },
     "metadata": {},
     "output_type": "display_data"
    }
   ],
   "source": [
    "plt.scatter(train_orders['order_hour_of_day'], train_orders['order_dow'])"
   ]
  },
  {
   "cell_type": "code",
   "execution_count": 4,
   "metadata": {},
   "outputs": [
    {
     "data": {
      "text/plain": [
       "order_id                  131209\n",
       "user_id                   131209\n",
       "eval_set                  131209\n",
       "order_number              131209\n",
       "order_dow                 131209\n",
       "order_hour_of_day         131209\n",
       "days_since_prior_order    131209\n",
       "dtype: int64"
      ]
     },
     "execution_count": 4,
     "metadata": {},
     "output_type": "execute_result"
    }
   ],
   "source": [
    "train_orders.count()"
   ]
  },
  {
   "cell_type": "code",
   "execution_count": 5,
   "metadata": {},
   "outputs": [
    {
     "data": {
      "image/png": "[encoded data removed]",
      "text/plain": [
       "<matplotlib.figure.Figure at 0x735ad10>"
      ]
     },
     "metadata": {},
     "output_type": "display_data"
    }
   ],
   "source": [
    "plt.hist(train_orders['order_dow'])\n",
    "plt.show()"
   ]
  },
  {
   "cell_type": "code",
   "execution_count": 6,
   "metadata": {},
   "outputs": [
    {
     "name": "stdout",
     "output_type": "stream",
     "text": [
      "count    131209.000000\n",
      "mean         13.581363\n",
      "std           4.221325\n",
      "min           0.000000\n",
      "25%          10.000000\n",
      "50%          14.000000\n",
      "75%          17.000000\n",
      "max          23.000000\n",
      "Name: order_hour_of_day, dtype: float64\n"
     ]
    },
    {
     "data": {
      "image/png": "[encoded data removed]",
      "text/plain": [
       "<matplotlib.figure.Figure at 0x3f50b70>"
      ]
     },
     "metadata": {},
     "output_type": "display_data"
    }
   ],
   "source": [
    "plt.hist(train_orders['order_hour_of_day'])\n",
    "print train_orders['order_hour_of_day'].describe()"
   ]
  },
  {
   "cell_type": "code",
   "execution_count": 7,
   "metadata": {},
   "outputs": [
    {
     "name": "stdout",
     "output_type": "stream",
     "text": [
      "30.0    40119\n",
      "7.0      9154\n",
      "6.0      6207\n",
      "8.0      5371\n",
      "5.0      5025\n",
      "4.0      4606\n",
      "14.0     4516\n",
      "3.0      4016\n",
      "9.0      3868\n",
      "2.0      3496\n",
      "13.0     3452\n",
      "10.0     3219\n",
      "12.0     3015\n",
      "15.0     2975\n",
      "11.0     2927\n",
      "1.0      2716\n",
      "21.0     2621\n",
      "16.0     2211\n",
      "20.0     2142\n",
      "0.0      2126\n",
      "28.0     1898\n",
      "17.0     1875\n",
      "19.0     1859\n",
      "22.0     1832\n",
      "18.0     1828\n",
      "23.0     1474\n",
      "27.0     1457\n",
      "29.0     1442\n",
      "24.0     1304\n",
      "25.0     1240\n",
      "26.0     1218\n",
      "Name: days_since_prior_order, dtype: int64\n"
     ]
    },
    {
     "data": {
      "image/png": "[encoded data removed]",
      "text/plain": [
       "<matplotlib.figure.Figure at 0x76a2070>"
      ]
     },
     "metadata": {},
     "output_type": "display_data"
    }
   ],
   "source": [
    "plt.hist(train_orders['days_since_prior_order'])\n",
    "print train_orders['days_since_prior_order'].value_counts()"
   ]
  },
  {
   "cell_type": "code",
   "execution_count": null,
   "metadata": {
    "collapsed": true
   },
   "outputs": [],
   "source": []
  },
  {
   "cell_type": "code",
   "execution_count": null,
   "metadata": {
    "collapsed": true
   },
   "outputs": [],
   "source": []
  }
 ],
 "metadata": {
  "kernelspec": {
   "display_name": "Python 2",
   "language": "python",
   "name": "python2"
  },
  "language_info": {
   "codemirror_mode": {
    "name": "ipython",
    "version": 2
   },
   "file_extension": ".py",
   "mimetype": "text/x-python",
   "name": "python",
   "nbconvert_exporter": "python",
   "pygments_lexer": "ipython2",
   "version": "2.7.13"
  }
 },
 "nbformat": 4,
 "nbformat_minor": 2
}
